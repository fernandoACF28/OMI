{
 "cells": [
  {
   "cell_type": "code",
   "execution_count": 1,
   "id": "550849a1",
   "metadata": {},
   "outputs": [],
   "source": [
    "import numpy as np\n",
    "import h5py\n",
    "import pandas as pd\n",
    "from haversine import haversine, Unit\n",
    "import os \n",
    "from glob import glob as gb\n",
    "from tqdm import tqdm\n",
    "import omi_functions"
   ]
  },
  {
   "cell_type": "code",
   "execution_count": null,
   "id": "36a1505c",
   "metadata": {},
   "outputs": [
    {
     "name": "stderr",
     "output_type": "stream",
     "text": [
      "Getting csv files in 2025:   0%|          | 0/331 [00:00<?, ?it/s]"
     ]
    },
    {
     "name": "stderr",
     "output_type": "stream",
     "text": [
      "Getting csv files in 2025:  39%|███▊      | 128/331 [01:43<02:54,  1.16it/s]"
     ]
    }
   ],
   "source": [
    "stations = {'SP-EACH':(-23.481630,-46.499670),\n",
    "            'Sao_Paulo':(-23.561500,-46.734983)}\n",
    "years = [str(i) for i in range(2025,2026)]\n",
    "for station in stations:\n",
    "    for year in years:\n",
    "        MIN_SIZE_BYTES = 5_000_000  # ajuste esse valor conforme os arquivos válidos\n",
    "        files_hdf = [f for f in gb(f'OMTO3_{year}_to_{year}/*.he5') if os.path.getsize(f) > MIN_SIZE_BYTES]\n",
    "        errors_1 = []\n",
    "        for i, file in tqdm(enumerate(files_hdf),total=len(files_hdf),desc=f'Getting csv files in {year}'):\n",
    "            omi = omi_functions.OzoneMonitoringInstrument(\n",
    "                path=file,\n",
    "                index=i,\n",
    "                coordinates=stations[station],\n",
    "                station_name=station,\n",
    "                name_folder=f'OMI_{station}_{year}',\n",
    "                year_data=year,\n",
    "                var_select='ColumnAmountO3',\n",
    "                radius=25\n",
    "            )\n",
    "            log = omi.extract_omi_csv_from_HDF()\n",
    "            errors_1.extend(log)  # CORRIGIDO\n"
   ]
  }
 ],
 "metadata": {
  "kernelspec": {
   "display_name": "venv",
   "language": "python",
   "name": "python3"
  },
  "language_info": {
   "codemirror_mode": {
    "name": "ipython",
    "version": 3
   },
   "file_extension": ".py",
   "mimetype": "text/x-python",
   "name": "python",
   "nbconvert_exporter": "python",
   "pygments_lexer": "ipython3",
   "version": "3.8.20"
  }
 },
 "nbformat": 4,
 "nbformat_minor": 5
}
